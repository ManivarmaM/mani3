{
 "cells": [
  {
   "cell_type": "code",
   "execution_count": 1,
   "metadata": {},
   "outputs": [
    {
     "name": "stdout",
     "output_type": "stream",
     "text": [
      "Enter first number\n",
      "3\n",
      "Enter second number\n",
      "4\n",
      "Sum is greater than 5: True\n",
      "Sum is equal to 5: False\n",
      "Sum is lesser than 5: False\n"
     ]
    }
   ],
   "source": [
    "print(\"Enter first number\")\n",
    "first=float(input())\n",
    "print(\"Enter second number\")\n",
    "second=float(input())\n",
    "sum=first+second\n",
    "print(\"Sum is greater than 5:\",sum>5)\n",
    "print(\"Sum is equal to 5:\",sum==5)\n",
    "print(\"Sum is lesser than 5:\",sum<5)"
   ]
  },
  {
   "cell_type": "code",
   "execution_count": null,
   "metadata": {},
   "outputs": [],
   "source": []
  }
 ],
 "metadata": {
  "kernelspec": {
   "display_name": "Python 3",
   "language": "python",
   "name": "python3"
  },
  "language_info": {
   "codemirror_mode": {
    "name": "ipython",
    "version": 3
   },
   "file_extension": ".py",
   "mimetype": "text/x-python",
   "name": "python",
   "nbconvert_exporter": "python",
   "pygments_lexer": "ipython3",
   "version": "3.8.3"
  }
 },
 "nbformat": 4,
 "nbformat_minor": 4
}
