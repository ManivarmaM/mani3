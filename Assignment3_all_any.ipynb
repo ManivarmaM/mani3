{
 "cells": [
  {
   "cell_type": "code",
   "execution_count": 1,
   "metadata": {},
   "outputs": [
    {
     "name": "stdout",
     "output_type": "stream",
     "text": [
      "first number\n",
      "5\n",
      "second number\n",
      "4\n",
      "third number\n",
      "5\n",
      "All are equal: False\n",
      "Any of three are equal: True\n"
     ]
    }
   ],
   "source": [
    "print(\"first number\")\n",
    "first=input()\n",
    "print(\"second number\")\n",
    "second=input()\n",
    "print(\"third number\")\n",
    "third=input()\n",
    "a=first==second and second==third and third==first\n",
    "print(\"All are equal:\",a)\n",
    "b=first==second or second==third or third==first\n",
    "print(\"Any of three are equal:\",b)"
   ]
  },
  {
   "cell_type": "code",
   "execution_count": null,
   "metadata": {},
   "outputs": [],
   "source": []
  }
 ],
 "metadata": {
  "kernelspec": {
   "display_name": "Python 3",
   "language": "python",
   "name": "python3"
  },
  "language_info": {
   "codemirror_mode": {
    "name": "ipython",
    "version": 3
   },
   "file_extension": ".py",
   "mimetype": "text/x-python",
   "name": "python",
   "nbconvert_exporter": "python",
   "pygments_lexer": "ipython3",
   "version": "3.8.3"
  }
 },
 "nbformat": 4,
 "nbformat_minor": 4
}
